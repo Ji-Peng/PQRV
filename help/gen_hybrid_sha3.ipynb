{
 "cells": [
  {
   "cell_type": "code",
   "execution_count": 3,
   "metadata": {},
   "outputs": [],
   "source": [
    "def process_files(N):\n",
    "    with open('file1.txt', 'r') as f1, open('file2.txt', 'r') as f2, open('output.txt', 'w') as output:\n",
    "        while True:\n",
    "            f1_lines = [f1.readline().strip() for _ in range(N)]\n",
    "            if len(f1_lines) < N:\n",
    "                break\n",
    "\n",
    "            f2_line = f2.readline().strip()\n",
    "            if not f2_line:\n",
    "                break\n",
    "\n",
    "            f1_lines[N-1] += \";\"\n",
    "\n",
    "            spaces_to_add = 55 - len(f1_lines[N-1])\n",
    "            f1_lines[N-1] += ' ' * spaces_to_add\n",
    "\n",
    "            f1_lines[N-1] += f2_line\n",
    "\n",
    "            for line in f1_lines:\n",
    "                output.write(line + '\\n')\n",
    "\n",
    "if __name__ == \"__main__\":\n",
    "    N = 1\n",
    "    process_files(N)"
   ]
  }
 ],
 "metadata": {
  "kernelspec": {
   "display_name": "Python 3",
   "language": "python",
   "name": "python3"
  },
  "language_info": {
   "codemirror_mode": {
    "name": "ipython",
    "version": 3
   },
   "file_extension": ".py",
   "mimetype": "text/x-python",
   "name": "python",
   "nbconvert_exporter": "python",
   "pygments_lexer": "ipython3",
   "version": "3.10.12"
  }
 },
 "nbformat": 4,
 "nbformat_minor": 2
}
