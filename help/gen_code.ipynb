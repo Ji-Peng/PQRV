{
 "cells": [
  {
   "cell_type": "code",
   "execution_count": 6,
   "metadata": {},
   "outputs": [],
   "source": [
    "n = 6\n",
    "\n",
    "def process_lines(file1_lines, file2_lines, output_file, i1, i2):\n",
    "    for i in range(n-3):\n",
    "        output_file.write(file1_lines[i1 + i])\n",
    "\n",
    "    if not file2_lines[i2].startswith(\"li\"):\n",
    "        output_file.write(file1_lines[i1 + n - 3])\n",
    "        output_file.write(file1_lines[i1 + n - 2])\n",
    "        part1 = file1_lines[i1 + n - 1].rstrip()\n",
    "        output_file.write(part1 + \";\" + \" \" * (39-len(part1)) + file2_lines[i2])\n",
    "        i2 += 1\n",
    "        i1 += n\n",
    "    else:\n",
    "        part1 = file1_lines[i1 + n - 3].rstrip()\n",
    "        output_file.write(part1 + \";\" + \" \" * (39-len(part1)) + file2_lines[i2])\n",
    "        part1 = file1_lines[i1 + n - 2].rstrip()\n",
    "        output_file.write(part1 + \";\" + \" \" * (39-len(part1)) + file2_lines[i2 + 1])\n",
    "        i2 += 2\n",
    "        i1 += (n-1)\n",
    "\n",
    "    return i1, i2\n",
    "\n",
    "def main():\n",
    "    with open('file1.txt', 'r') as file1, open('file2.txt', 'r') as file2, open('output.txt', 'w') as output_file:\n",
    "        file1_lines = file1.readlines()\n",
    "        file2_lines = file2.readlines()\n",
    "\n",
    "        i1, i2 = 0, 0\n",
    "\n",
    "        while i1 + n <= len(file1_lines) and i2 < len(file2_lines):\n",
    "            i1, i2 = process_lines(file1_lines, file2_lines, output_file, i1, i2)\n",
    "\n",
    "if __name__ == \"__main__\":\n",
    "    main()\n"
   ]
  }
 ],
 "metadata": {
  "kernelspec": {
   "display_name": "base",
   "language": "python",
   "name": "python3"
  },
  "language_info": {
   "codemirror_mode": {
    "name": "ipython",
    "version": 3
   },
   "file_extension": ".py",
   "mimetype": "text/x-python",
   "name": "python",
   "nbconvert_exporter": "python",
   "pygments_lexer": "ipython3",
   "version": "3.8.5"
  }
 },
 "nbformat": 4,
 "nbformat_minor": 2
}
