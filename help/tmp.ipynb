{
 "cells": [
  {
   "cell_type": "code",
   "execution_count": 8,
   "metadata": {},
   "outputs": [
    {
     "name": "stdout",
     "output_type": "stream",
     "text": [
      "5811.75 4371.2\n",
      "5453.0 6201.2 6260.0\n",
      "5170.25 5464.0 5674.625\n",
      "5041.727272727273 5408.545454545455 5255.363636363636 5255.363636363636 6029.454545454545 5381.818181818182\n",
      "4766.321428571428 4838.375 4766.321428571428\n"
     ]
    }
   ],
   "source": [
    "# RV32IMV\n",
    "\n",
    "w1=9150\n",
    "w2=13168\n",
    "w3=14097\n",
    "w4=21856\n",
    "w5=31300\n",
    "\n",
    "# 4w:\n",
    "print((w1+w3)/4, w4/5)\n",
    "\n",
    "# 5w\n",
    "print((w2+w3)/5, (w1+w4)/5, w5/5)\n",
    "\n",
    "# 8w\n",
    "print((w3+w3+w2)/8, (w4+w4)/8, (w3+w5)/8)\n",
    "\n",
    "# 11w\n",
    "print((w3*3+w2)/11, (w3*2+w5)/11, (w3+w4*2)/11, (w4*2+w3)/11, (w4+w2+w5)/11, (w4+w3*2+w1)/11)\n",
    "\n",
    "# 56w\n",
    "print((w3*18+w2)/56, (w3*17+w5)/56, (w3*17+w2+w3)/56)"
   ]
  },
  {
   "cell_type": "code",
   "execution_count": 10,
   "metadata": {},
   "outputs": [
    {
     "name": "stdout",
     "output_type": "stream",
     "text": [
      "5349.2 5079.2 4982.8\n",
      "4526.0 4804.666666666667 4751.111111111111\n",
      "4603.0 4526.0 4474.4\n"
     ]
    }
   ],
   "source": [
    "# RV32IMBV\n",
    "\n",
    "w1=7550\n",
    "w2=13168\n",
    "w3=13578\n",
    "w4=17846\n",
    "w5=24914\n",
    "\n",
    "# 5w\n",
    "print((w2+w3)/5, (w1+w4)/5, w5/5)\n",
    "\n",
    "# 9w\n",
    "print((w3+w3+w3)/9, (w4+w4+w1)/9, (w4+w5)/9)\n",
    "\n",
    "# 30w\n",
    "print((7*w4+w2)/30, w3/3, (6*w4+2*w3)/30)"
   ]
  },
  {
   "cell_type": "code",
   "execution_count": 13,
   "metadata": {},
   "outputs": [
    {
     "name": "stdout",
     "output_type": "stream",
     "text": [
      "3109.6666666666665 2857.5555555555557\n",
      "2924.0 2836.25 2912.25 2910.4375 2780.25 2824.5 3037.3125\n",
      "2780.25\n",
      "2854.8571428571427 3177.4285714285716\n"
     ]
    }
   ],
   "source": [
    "# RV64IMV\n",
    "\n",
    "w1=3476\n",
    "w4=13551\n",
    "w5=14436\n",
    "w6=16508\n",
    "w8=22242\n",
    "w10=28684\n",
    "w14=41645\n",
    "\n",
    "# 9w\n",
    "print((w4+w5)/9, (w8+w1)/9)\n",
    "\n",
    "# 16w\n",
    "print((w5*3+w1)/16, (w5*2+w6)/16, (w5+w1+w10)/16, (w6+w6+w4)/16, (w8*2)/16, (w10+w6)/16, (w14+w1*2)/16)\n",
    "\n",
    "# 56w\n",
    "print((w8)/8)\n",
    "\n",
    "# 7w\n",
    "print((w6+w1)/7, w8/7)"
   ]
  },
  {
   "cell_type": "code",
   "execution_count": 15,
   "metadata": {},
   "outputs": [
    {
     "name": "stdout",
     "output_type": "stream",
     "text": [
      "2095.0 2060.0714285714284\n",
      "2208 2394.285714285714\n"
     ]
    }
   ],
   "source": [
    "# RV64IMV\n",
    "\n",
    "w1=2208\n",
    "w8=16760\n",
    "w10=20330\n",
    "w14=28841\n",
    "\n",
    "# 56w\n",
    "print((w8)/8, w14/14)\n",
    "\n",
    "# 7w\n",
    "print(w1, w8/7)"
   ]
  }
 ],
 "metadata": {
  "kernelspec": {
   "display_name": "Python 3",
   "language": "python",
   "name": "python3"
  },
  "language_info": {
   "codemirror_mode": {
    "name": "ipython",
    "version": 3
   },
   "file_extension": ".py",
   "mimetype": "text/x-python",
   "name": "python",
   "nbconvert_exporter": "python",
   "pygments_lexer": "ipython3",
   "version": "3.10.12"
  }
 },
 "nbformat": 4,
 "nbformat_minor": 2
}
