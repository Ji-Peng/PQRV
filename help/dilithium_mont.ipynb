{
 "cells": [
  {
   "cell_type": "code",
   "execution_count": 2,
   "metadata": {},
   "outputs": [
    {
     "name": "stdout",
     "output_type": "stream",
     "text": [
      "MONT -4186625\n",
      "R2modQ 2365951\n",
      "QINV 58728449\n",
      "INV256 8347681\n",
      "INV64 8249473\n",
      "R2INV256 41978\n",
      "R2INV64 167912\n",
      "R2INV64*QINV 4261384168\n",
      "R2INV256*QINV 4286571514\n"
     ]
    }
   ],
   "source": [
    "q=8380417\n",
    "l=32\n",
    "\n",
    "def extended_gcd(a, b):\n",
    "    if a == 0:\n",
    "        return (b, 0, 1)\n",
    "    else:\n",
    "        gcd, x, y = extended_gcd(b % a, a)\n",
    "        return (gcd, y - (b // a) * x, x)\n",
    "\n",
    "def mod_inverse(a, q):\n",
    "    gcd, x, _ = extended_gcd(a, q)\n",
    "    if gcd != 1:\n",
    "        raise ValueError(f\"The inverse of {a} modulo {q} does not exist.\")\n",
    "    else:\n",
    "        return x % q\n",
    "\n",
    "print(\"MONT\", 2**l % q - q)\n",
    "print(\"R2modQ\", 2**(2*l) % q)\n",
    "print(\"QINV\", (mod_inverse(q, 2**(l))))\n",
    "print(\"INV256\", mod_inverse(256, q))\n",
    "print(\"INV64\", mod_inverse(64, q))\n",
    "print(\"R2INV256\", (2**(2*l) % q) * mod_inverse(256, q) % q)\n",
    "print(\"R2INV64\", (2**(2*l) % q) * mod_inverse(64, q) % q)\n",
    "print(\"R2INV64*QINV\", ((2**(2*l) % q) * mod_inverse(64, q) % q) * (mod_inverse(q, 2**(l))) & (2**32-1))\n",
    "print(\"R2INV256*QINV\", ((2**(2*l) % q) * mod_inverse(256, q) % q) * (mod_inverse(q, 2**(l))) & (2**32-1))"
   ]
  }
 ],
 "metadata": {
  "kernelspec": {
   "display_name": "Python 3",
   "language": "python",
   "name": "python3"
  },
  "language_info": {
   "codemirror_mode": {
    "name": "ipython",
    "version": 3
   },
   "file_extension": ".py",
   "mimetype": "text/x-python",
   "name": "python",
   "nbconvert_exporter": "python",
   "pygments_lexer": "ipython3",
   "version": "3.9.6"
  }
 },
 "nbformat": 4,
 "nbformat_minor": 2
}
