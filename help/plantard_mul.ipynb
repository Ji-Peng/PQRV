{
 "cells": [
  {
   "cell_type": "code",
   "execution_count": 4,
   "metadata": {},
   "outputs": [
    {
     "name": "stdout",
     "output_type": "stream",
     "text": [
      "0x13afb8\n",
      "1353\n",
      "0x680bb055\n"
     ]
    }
   ],
   "source": [
    "q = 3329\n",
    "qinv = 0x6ba8f301\n",
    "plantconst = (((-2**32) % q) * qinv) % (2**32)\n",
    "print(hex(plantconst))\n",
    "\n",
    "print((((2**32) % q)))\n",
    "\n",
    "plantconst2 = (((-2**64) % q) * qinv) % (2**32)\n",
    "print(hex(plantconst2))"
   ]
  }
 ],
 "metadata": {
  "kernelspec": {
   "display_name": "Python 3",
   "language": "python",
   "name": "python3"
  },
  "language_info": {
   "codemirror_mode": {
    "name": "ipython",
    "version": 3
   },
   "file_extension": ".py",
   "mimetype": "text/x-python",
   "name": "python",
   "nbconvert_exporter": "python",
   "pygments_lexer": "ipython3",
   "version": "3.10.12"
  }
 },
 "nbformat": 4,
 "nbformat_minor": 2
}
