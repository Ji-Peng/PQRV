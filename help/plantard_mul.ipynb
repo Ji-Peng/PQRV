{
 "cells": [
  {
   "cell_type": "code",
   "execution_count": 4,
   "metadata": {},
   "outputs": [
    {
     "name": "stdout",
     "output_type": "stream",
     "text": [
      "0x13afb8\n",
      "0xffec5049\n",
      "0x97f44fac\n"
     ]
    }
   ],
   "source": [
    "q = 3329\n",
    "qinv = 0x6ba8f301\n",
    "\n",
    "plantconst = (((-2**32) % q) * qinv) % (2**32)\n",
    "print(hex(plantconst))\n",
    "\n",
    "plantconst = (((2**32) % q) * qinv) % (2**32)\n",
    "print(hex(plantconst))\n",
    "\n",
    "plantconst2 = (((2**64) % q) * qinv) % (2**32)\n",
    "print(hex(plantconst2))"
   ]
  },
  {
   "cell_type": "code",
   "execution_count": 5,
   "metadata": {},
   "outputs": [
    {
     "name": "stdout",
     "output_type": "stream",
     "text": [
      "0x3c0f12886ba8f301\n",
      "0x6ba8f301\n"
     ]
    }
   ],
   "source": [
    "q=3329\n",
    "l=32\n",
    "\n",
    "def extended_gcd(a, b):\n",
    "    if a == 0:\n",
    "        return (b, 0, 1)\n",
    "    else:\n",
    "        gcd, x, y = extended_gcd(b % a, a)\n",
    "        return (gcd, y - (b // a) * x, x)\n",
    "\n",
    "def mod_inverse(a, q):\n",
    "    gcd, x, _ = extended_gcd(a, q)\n",
    "    if gcd != 1:\n",
    "        raise ValueError(f\"The inverse of {a} modulo {q} does not exist.\")\n",
    "    else:\n",
    "        return x % q\n",
    "\n",
    "print(hex(mod_inverse(q, 2**(2*l))))\n",
    "print(hex(mod_inverse(q, 2**(l))))"
   ]
  },
  {
   "cell_type": "code",
   "execution_count": 3,
   "metadata": {},
   "outputs": [
    {
     "name": "stdout",
     "output_type": "stream",
     "text": [
      "0x13afb7680bb055 52.299126844859735\n",
      "0x1a390f4d9791e139 60.71275477388391\n",
      "0xd0100000000\n",
      "2147483648 0x80000000\n"
     ]
    }
   ],
   "source": [
    "import math\n",
    "\n",
    "q=3329\n",
    "l=32\n",
    "qinv=0x3c0f12886ba8f301\n",
    "\n",
    "plantconst = (((-2**64) % q) * qinv) % (2**64)\n",
    "print(hex(plantconst), math.log2(plantconst))\n",
    "\n",
    "plantconst2 = (((-2**64) % q) * ((-2**64) % q) * qinv) % (2**64)\n",
    "print(hex(plantconst2), math.log2(plantconst2))\n",
    "\n",
    "print(hex(q<<32))\n"
   ]
  },
  {
   "cell_type": "code",
   "execution_count": 7,
   "metadata": {},
   "outputs": [
    {
     "name": "stdout",
     "output_type": "stream",
     "text": [
      "alpha: 1, min: -2^43.700873155140265, max: 2^63.999997763551995\n",
      "alpha: 2, min: -2^45.28583565586142, max: 2^63.99999552710053\n",
      "alpha: 3, min: -2^46.50822807719787, max: 2^63.99999105418719\n",
      "alpha: 4, min: -2^47.60776375074878, max: 2^63.99998210831891\n",
      "alpha: 5, min: -2^48.65506946552714, max: 2^63.99996421641593\n",
      "alpha: 6, min: -2^49.67815307864018, max: 2^63.99992843194429\n",
      "alpha: 7, min: -2^50.68955784191243, max: 2^63.99985686033812\n",
      "alpha: 8, min: -2^51.69522659199912, max: 2^63.99971370647297\n",
      "alpha: 9, min: -2^52.69805263607788, max: 2^63.99942735612155\n",
      "alpha: 10, min: -2^53.69946358488559, max: 2^63.998854484855315\n",
      "alpha: 11, min: -2^54.700168542163674, max: 2^63.99770805943666\n",
      "alpha: 12, min: -2^55.70052089166863, max: 2^63.99541247198263\n",
      "alpha: 13, min: -2^56.700697034155986, max: 2^63.99081030984997\n",
      "alpha: 14, min: -2^57.70078509733568, max: 2^63.98156170768107\n",
      "alpha: 15, min: -2^58.700829126909824, max: 2^63.962884711650766\n",
      "alpha: 16, min: -2^59.700851141193, max: 2^63.92478931194817\n",
      "alpha: 17, min: -2^60.70086214820862, max: 2^63.84544104552509\n",
      "alpha: 18, min: -2^61.70086765168494, max: 2^63.672314837200204\n",
      "alpha: 19, min: -2^62.70087040341522, max: 2^63.247630876238695\n"
     ]
    }
   ],
   "source": [
    "import math\n",
    "\n",
    "q = 3329\n",
    "\n",
    "def print_range(alpha):\n",
    "    min = q * 2**32 - q * 2**(32+alpha)\n",
    "    min_log2 = math.log2(-min)\n",
    "    min = round(min / q, 2)\n",
    "    max = 2**64 - q * 2**(32+alpha)\n",
    "    max_log2 = math.log2(max)\n",
    "    max = round(max / q, 2)\n",
    "    print(f\"alpha: {alpha}, min: -2^{min_log2}, max: 2^{max_log2}\")\n",
    "\n",
    "for i in range(1,20):\n",
    "    print_range(i)"
   ]
  }
 ],
 "metadata": {
  "kernelspec": {
   "display_name": "Python 3",
   "language": "python",
   "name": "python3"
  },
  "language_info": {
   "codemirror_mode": {
    "name": "ipython",
    "version": 3
   },
   "file_extension": ".py",
   "mimetype": "text/x-python",
   "name": "python",
   "nbconvert_exporter": "python",
   "pygments_lexer": "ipython3",
   "version": "3.10.12"
  }
 },
 "nbformat": 4,
 "nbformat_minor": 2
}
